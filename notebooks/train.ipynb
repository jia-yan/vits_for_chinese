{
 "cells": [
  {
   "attachments": {},
   "cell_type": "markdown",
   "id": "8684c458",
   "metadata": {},
   "source": [
    "### 1 切换目录"
   ]
  },
  {
   "cell_type": "code",
   "execution_count": 6,
   "id": "9c80474a-d620-47ec-a76f-bb74395be086",
   "metadata": {},
   "outputs": [
    {
     "name": "stdout",
     "output_type": "stream",
     "text": [
      "/home/featurize/vits-zh\n",
      "attentions.py  \u001b[0m\u001b[01;34mlogs\u001b[0m/              \u001b[01;34mmonotonic_align\u001b[0m/  \u001b[01;34mtext\u001b[0m/          \u001b[01;34mwave_data\u001b[0m/\n",
      "commons.py     losses.py          preprocess.py     train.py\n",
      "\u001b[01;34mconfigs\u001b[0m/       mel_processing.py  \u001b[01;34m__pycache__\u001b[0m/      transforms.py\n",
      "data_utils.py  models.py          requirements.txt  usage.txt\n",
      "\u001b[01;34mfilelists\u001b[0m/     modules.py         test.py           utils.py\n"
     ]
    }
   ],
   "source": [
    "%cd ~/vits-zh  # 具体目录看实际情况调整\n",
    "%ls"
   ]
  },
  {
   "attachments": {},
   "cell_type": "markdown",
   "id": "ebc3e5fb",
   "metadata": {},
   "source": [
    "./configs 存放配置文件，其中有train配置板块，data配置板块，model配置板块。配置信息加载后会为大多数模块提供参数。\n",
    "\n",
    "./filelists 文件夹中存放语音数据集的标签，分但说话者和多说话者模板，推荐使用多说话者，因为带说话者模型训练出来只比原来的大10M空间，但数据集是越多越好。\n",
    "\n",
    "./logs 文件夹放运行时生成的tensorboard日志，以及模型的阶段性权重保存。\n",
    "\n",
    "./monotonic_align 训练时要用到的音素-波形对齐模块，换环境后需要重新编译。\n",
    "\n",
    "./wave_data 存放语音数据的默认路径。"
   ]
  },
  {
   "attachments": {},
   "cell_type": "markdown",
   "id": "79553aee",
   "metadata": {},
   "source": [
    "### 1 先准备数据集"
   ]
  },
  {
   "attachments": {},
   "cell_type": "markdown",
   "id": "317ccdd9",
   "metadata": {},
   "source": [
    "数据集默认放置在./wave_data文件夹里\n",
    "\n",
    "具体的文件名和标签对应关系默认放在./filelists文件夹里面\n",
    "\n",
    "参考./filelists里面没有cleaned后缀的模板"
   ]
  },
  {
   "cell_type": "code",
   "execution_count": null,
   "id": "636733fc",
   "metadata": {},
   "outputs": [],
   "source": [
    "# 准备好自己的中文数据集和标签后, 再运行这个\n",
    "from preprocess import preprocess, validate_tokens\n",
    "\n",
    "preprocess('./filelists/XXXX.txt') # 汉字转声母韵母\n",
    "\n",
    "validate_tokens('./filelists/XXXX.txt.cleaned')  # 检查有没有错误\n",
    "# 由于还没有写cleaner，非中文的符号请去掉，顿号请换成逗号"
   ]
  },
  {
   "attachments": {},
   "cell_type": "markdown",
   "id": "78aaadfe",
   "metadata": {},
   "source": [
    "### 2 安装依赖"
   ]
  },
  {
   "cell_type": "code",
   "execution_count": null,
   "id": "5cdc3bc8",
   "metadata": {},
   "outputs": [],
   "source": [
    "!pip3 install torch==1.13.1+cu116 -f https://download.pytorch.org/whl/torch_stable.html"
   ]
  },
  {
   "cell_type": "code",
   "execution_count": null,
   "id": "0eeed7e1",
   "metadata": {},
   "outputs": [],
   "source": [
    "import torch\n",
    "torch.__version__\n",
    "# 检查torch1.13.1版本有无安装成功"
   ]
  },
  {
   "cell_type": "code",
   "execution_count": null,
   "id": "519333c6",
   "metadata": {},
   "outputs": [],
   "source": [
    "!pip install Cython\n",
    "!pip install librosa\n",
    "!pip install pypinyin"
   ]
  },
  {
   "cell_type": "code",
   "execution_count": null,
   "id": "5aa31a17-7cd0-46e1-84aa-353a726424bb",
   "metadata": {},
   "outputs": [],
   "source": [
    "# 预先编译单调对齐模块\n",
    "%cd monotonic_align\n",
    "!python setup.py build_ext --inplace\n",
    "%cd .."
   ]
  },
  {
   "attachments": {},
   "cell_type": "markdown",
   "id": "cceb8522",
   "metadata": {},
   "source": [
    "#### 训练单speaker版本"
   ]
  },
  {
   "cell_type": "code",
   "execution_count": null,
   "id": "1033e710-e6fe-47ed-bf9b-259501adbbdb",
   "metadata": {},
   "outputs": [],
   "source": [
    "!python train.py --model=zh --config=./configs/singlespeaker.json"
   ]
  },
  {
   "attachments": {},
   "cell_type": "markdown",
   "id": "81af9245",
   "metadata": {},
   "source": [
    "#### 训练多speaker版本"
   ]
  },
  {
   "cell_type": "code",
   "execution_count": null,
   "id": "59472045",
   "metadata": {},
   "outputs": [],
   "source": [
    "!python train_ms.py --model=zh --config=./configs/multispeaker.json"
   ]
  },
  {
   "cell_type": "code",
   "execution_count": null,
   "id": "9510cb57",
   "metadata": {},
   "outputs": [],
   "source": [
    "# 可以使用infer.ipynb将最新的模型(大概150M)提取出来,再下载到本地，节省流量"
   ]
  }
 ],
 "metadata": {
  "kernelspec": {
   "display_name": "base",
   "language": "python",
   "name": "python3"
  },
  "language_info": {
   "codemirror_mode": {
    "name": "ipython",
    "version": 3
   },
   "file_extension": ".py",
   "mimetype": "text/x-python",
   "name": "python",
   "nbconvert_exporter": "python",
   "pygments_lexer": "ipython3",
   "version": "3.9.13"
  },
  "vscode": {
   "interpreter": {
    "hash": "dac4fc32d5c7eb33424b3c48f2745f9e3f9ffefaa1ba14993f8af344c5fea579"
   }
  }
 },
 "nbformat": 4,
 "nbformat_minor": 5
}
